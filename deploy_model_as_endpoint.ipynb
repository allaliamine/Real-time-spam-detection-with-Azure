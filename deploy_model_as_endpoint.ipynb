{
 "cells": [
  {
   "cell_type": "markdown",
   "metadata": {
    "nteract": {
     "transient": {
      "deleting": false
     }
    }
   },
   "source": [
    "## Importing libraries"
   ]
  },
  {
   "cell_type": "code",
   "execution_count": 1,
   "metadata": {
    "gather": {
     "logged": 1733594362089
    }
   },
   "outputs": [],
   "source": [
    "# import required libraries\n",
    "from azure.ai.ml import MLClient\n",
    "from azure.ai.ml.entities import (\n",
    "    ManagedOnlineEndpoint,\n",
    "    ManagedOnlineDeployment,\n",
    "    Model,\n",
    "    Environment,\n",
    "    CodeConfiguration,\n",
    ")\n",
    "from azure.identity import DefaultAzureCredential"
   ]
  },
  {
   "cell_type": "markdown",
   "metadata": {
    "nteract": {
     "transient": {
      "deleting": false
     }
    }
   },
   "source": [
    "## Configuring workspace details"
   ]
  },
  {
   "cell_type": "code",
   "execution_count": null,
   "metadata": {
    "gather": {
     "logged": 1733594438704
    },
    "jupyter": {
     "outputs_hidden": false,
     "source_hidden": false
    },
    "nteract": {
     "transient": {
      "deleting": false
     }
    }
   },
   "outputs": [],
   "source": [
    "subscription_id=\"-----------------\"\n",
    "resource_group=\"-----------------\"\n",
    "workspace=\"-----------------\""
   ]
  },
  {
   "cell_type": "code",
   "execution_count": 5,
   "metadata": {
    "gather": {
     "logged": 1733594441446
    },
    "jupyter": {
     "outputs_hidden": false,
     "source_hidden": false
    },
    "nteract": {
     "transient": {
      "deleting": false
     }
    }
   },
   "outputs": [],
   "source": [
    "ml_client = MLClient(\n",
    "    DefaultAzureCredential(), subscription_id, resource_group, workspace\n",
    ")"
   ]
  },
  {
   "cell_type": "markdown",
   "metadata": {
    "nteract": {
     "transient": {
      "deleting": false
     }
    }
   },
   "source": [
    "## Registering the Model "
   ]
  },
  {
   "cell_type": "markdown",
   "metadata": {
    "nteract": {
     "transient": {
      "deleting": false
     }
    }
   },
   "source": [
    "### First we should run the \"convert_to_MLflow.py\" script so that we can convert our model to a MLflow model"
   ]
  },
  {
   "cell_type": "markdown",
   "metadata": {
    "nteract": {
     "transient": {
      "deleting": false
     }
    }
   },
   "source": [
    "### 1- Now Registering the Model"
   ]
  },
  {
   "cell_type": "code",
   "execution_count": null,
   "metadata": {
    "gather": {
     "logged": 1733594943051
    },
    "jupyter": {
     "outputs_hidden": false,
     "source_hidden": false
    },
    "nteract": {
     "transient": {
      "deleting": false
     }
    }
   },
   "outputs": [
    {
     "data": {
      "text/plain": [
       "Model({'job_name': None, 'intellectual_property': None, 'is_anonymous': False, 'auto_increment_version': False, 'auto_delete_setting': None, 'name': 'spam-detection-model', 'description': 'Custom model to predict spams and non-spams', 'tags': {}, 'properties': {}, 'print_as_yaml': False, 'id': '/subscriptions/97f7cf11-b890-412c-be78-d508db5a61e5/resourceGroups/ml-project/providers/Microsoft.MachineLearningServices/workspaces/cloud-model-deployement/models/spam-detection-model/versions/2', 'Resource__source_path': '', 'base_path': '/mnt/batch/tasks/shared/LS_root/mounts/clusters/spam-detection/code/Users/amine.77_5-allali/Real-time-spam-detection-with-Azure', 'creation_context': <azure.ai.ml.entities._system_data.SystemData object at 0x7efd72703a60>, 'serialize': <msrest.serialization.Serializer object at 0x7efd72703df0>, 'version': '2', 'latest_version': None, 'path': 'azureml://subscriptions/97f7cf11-b890-412c-be78-d508db5a61e5/resourceGroups/ml-project/workspaces/cloud-model-deployement/datastores/workspaceblobstore/paths/LocalUpload/19e1544fcbeb436cbed4227e2f1a059c/spam_detection_mlflow', 'datastore': None, 'utc_time_created': None, 'flavors': {'python_function': {'env': '{\\n  \"conda\": \"conda.yaml\",\\n  \"virtualenv\": \"python_env.yaml\"\\n}', 'loader_module': 'mlflow.sklearn', 'model_path': 'model.pkl', 'predict_fn': 'predict', 'python_version': '3.10.11'}, 'sklearn': {'code': '', 'pickled_model': 'model.pkl', 'serialization_format': 'cloudpickle', 'sklearn_version': '1.5.1'}}, 'arm_type': 'model_version', 'type': 'mlflow_model', 'stage': 'Development'})"
      ]
     },
     "execution_count": 9,
     "metadata": {},
     "output_type": "execute_result"
    }
   ],
   "source": [
    "from azure.ai.ml.entities import Model\n",
    "from azure.ai.ml.constants import AssetTypes\n",
    "\n",
    "file_model = Model(\n",
    "    path=\"/home/azureuser/cloudfiles/code/Users/<User-name>/Real-time-spam-detection-with-Azure/spam_detection_mlflow\",\n",
    "    type=AssetTypes.MLFLOW_MODEL,\n",
    "    name=\"spam-detection-model\",\n",
    "    description=\"Custom model to predict spams and non-spams\"\n",
    "    )\n",
    "\n",
    "ml_client.models.create_or_update(file_model)"
   ]
  },
  {
   "cell_type": "markdown",
   "metadata": {
    "nteract": {
     "transient": {
      "deleting": false
     }
    }
   },
   "source": [
    "### 2- Registering the environment"
   ]
  },
  {
   "cell_type": "code",
   "execution_count": null,
   "metadata": {
    "gather": {
     "logged": 1733595123098
    },
    "jupyter": {
     "outputs_hidden": false,
     "source_hidden": false
    },
    "nteract": {
     "transient": {
      "deleting": false
     }
    }
   },
   "outputs": [
    {
     "data": {
      "text/plain": [
       "Environment({'arm_type': 'environment_version', 'latest_version': None, 'image': 'mcr.microsoft.com/azureml/openmpi4.1.0-ubuntu20.04', 'intellectual_property': None, 'is_anonymous': False, 'auto_increment_version': False, 'auto_delete_setting': None, 'name': 'my-env', 'description': 'Environment created from a Docker image plus Conda environment.', 'tags': {}, 'properties': {'azureml.labels': 'latest'}, 'print_as_yaml': False, 'id': '/subscriptions/97f7cf11-b890-412c-be78-d508db5a61e5/resourceGroups/ml-project/providers/Microsoft.MachineLearningServices/workspaces/cloud-model-deployement/environments/my-env/versions/1', 'Resource__source_path': '', 'base_path': '/mnt/batch/tasks/shared/LS_root/mounts/clusters/spam-detection/code/Users/amine.77_5-allali/Real-time-spam-detection-with-Azure', 'creation_context': <azure.ai.ml.entities._system_data.SystemData object at 0x7efd733884c0>, 'serialize': <msrest.serialization.Serializer object at 0x7efd72604cd0>, 'version': '1', 'conda_file': {'channels': ['conda-forge'], 'dependencies': ['python=3.10.11', 'pip<=22.3.1', {'pip': ['mlflow==2.18.0', 'cloudpickle==2.2.1', 'dataclasses==0.6', 'lz4==4.3.3', 'numpy==1.23.5', 'psutil==5.9.3', 'scikit-learn==1.5.1', 'scipy==1.10.1', 'uuid==1.30']}], 'name': 'mlflow-env'}, 'build': None, 'inference_config': None, 'os_type': 'Linux', 'conda_file_path': None, 'path': None, 'datastore': None, 'upload_hash': None, 'translated_conda_file': '{\\n  \"channels\": [\\n    \"conda-forge\"\\n  ],\\n  \"dependencies\": [\\n    \"python=3.10.11\",\\n    \"pip<=22.3.1\",\\n    {\\n      \"pip\": [\\n        \"mlflow==2.18.0\",\\n        \"cloudpickle==2.2.1\",\\n        \"dataclasses==0.6\",\\n        \"lz4==4.3.3\",\\n        \"numpy==1.23.5\",\\n        \"psutil==5.9.3\",\\n        \"scikit-learn==1.5.1\",\\n        \"scipy==1.10.1\",\\n        \"uuid==1.30\"\\n      ]\\n    }\\n  ],\\n  \"name\": \"mlflow-env\"\\n}'})"
      ]
     },
     "execution_count": 11,
     "metadata": {},
     "output_type": "execute_result"
    }
   ],
   "source": [
    "from azure.ai.ml.entities import Environment\n",
    "\n",
    "env_docker_conda = Environment(\n",
    "    image=\"mcr.microsoft.com/azureml/openmpi4.1.0-ubuntu20.04\",\n",
    "    conda_file=\"/home/azureuser/cloudfiles/code/Users/<User-name>/Real-time-spam-detection-with-Azure/spam_detection_mlflow/conda.yaml\",\n",
    "    name=\"my-env\",\n",
    "    description=\"Environment created from a Docker image plus Conda environment.\",\n",
    ")\n",
    "ml_client.environments.create_or_update(env_docker_conda)"
   ]
  },
  {
   "cell_type": "markdown",
   "metadata": {
    "nteract": {
     "transient": {
      "deleting": false
     }
    }
   },
   "source": [
    "## Defining endpoint "
   ]
  },
  {
   "cell_type": "code",
   "execution_count": 12,
   "metadata": {
    "gather": {
     "logged": 1733595261757
    },
    "jupyter": {
     "outputs_hidden": false,
     "source_hidden": false
    },
    "nteract": {
     "transient": {
      "deleting": false
     }
    }
   },
   "outputs": [],
   "source": [
    "endpoint_name = \"spam-detector-endpoint-v1\"\n",
    "\n",
    "# create an online endpoint\n",
    "endpoint = ManagedOnlineEndpoint(\n",
    "    name=endpoint_name,\n",
    "    description=\"this is an online endpoint that tells if a text is spam or not\",\n",
    "    auth_mode=\"key\",\n",
    ")"
   ]
  },
  {
   "cell_type": "code",
   "execution_count": 13,
   "metadata": {
    "gather": {
     "logged": 1733595505154
    },
    "jupyter": {
     "outputs_hidden": false,
     "source_hidden": false
    },
    "nteract": {
     "transient": {
      "deleting": false
     }
    }
   },
   "outputs": [
    {
     "data": {
      "text/plain": [
       "ManagedOnlineEndpoint({'public_network_access': 'Enabled', 'provisioning_state': 'Succeeded', 'scoring_uri': 'https://spam-detector-endpoint-v1.francecentral.inference.ml.azure.com/score', 'openapi_uri': 'https://spam-detector-endpoint-v1.francecentral.inference.ml.azure.com/swagger.json', 'name': 'spam-detector-endpoint-v1', 'description': 'this is an online endpoint that tells if a text is spam or not', 'tags': {}, 'properties': {'createdBy': 'amine allali', 'createdAt': '2024-12-07T18:17:24.288337+0000', 'lastModifiedAt': '2024-12-07T18:17:24.288337+0000', 'azureml.onlineendpointid': '/subscriptions/97f7cf11-b890-412c-be78-d508db5a61e5/resourcegroups/ml-project/providers/microsoft.machinelearningservices/workspaces/cloud-model-deployement/onlineendpoints/spam-detector-endpoint-v1', 'AzureAsyncOperationUri': 'https://management.azure.com/subscriptions/97f7cf11-b890-412c-be78-d508db5a61e5/providers/Microsoft.MachineLearningServices/locations/francecentral/mfeOperationsStatus/oeidp:73dbeee0-a863-4aea-88a1-42785d505e0e:a79f4021-8e5c-466b-9510-e6a9331cb45c?api-version=2022-02-01-preview'}, 'print_as_yaml': False, 'id': '/subscriptions/97f7cf11-b890-412c-be78-d508db5a61e5/resourceGroups/ml-project/providers/Microsoft.MachineLearningServices/workspaces/cloud-model-deployement/onlineEndpoints/spam-detector-endpoint-v1', 'Resource__source_path': '', 'base_path': '/mnt/batch/tasks/shared/LS_root/mounts/clusters/spam-detection/code/Users/amine.77_5-allali/Real-time-spam-detection-with-Azure', 'creation_context': None, 'serialize': <msrest.serialization.Serializer object at 0x7efd72606a10>, 'auth_mode': 'key', 'location': 'francecentral', 'identity': <azure.ai.ml.entities._credentials.IdentityConfiguration object at 0x7efd72605b40>, 'traffic': {}, 'mirror_traffic': {}, 'kind': 'Managed'})"
      ]
     },
     "execution_count": 13,
     "metadata": {},
     "output_type": "execute_result"
    }
   ],
   "source": [
    "ml_client.begin_create_or_update(endpoint).result()"
   ]
  },
  {
   "cell_type": "code",
   "execution_count": null,
   "metadata": {
    "jupyter": {
     "outputs_hidden": false,
     "source_hidden": false
    },
    "nteract": {
     "transient": {
      "deleting": false
     }
    }
   },
   "outputs": [],
   "source": []
  },
  {
   "cell_type": "code",
   "execution_count": null,
   "metadata": {
    "gather": {
     "logged": 1733596232976
    },
    "jupyter": {
     "outputs_hidden": false,
     "source_hidden": false
    },
    "nteract": {
     "transient": {
      "deleting": false
     }
    }
   },
   "outputs": [],
   "source": [
    "model = \"azureml:spam-detection-model:1\"\n",
    "env = \"azureml:my-env:1\"\n",
    "\n",
    "blue_deployment = ManagedOnlineDeployment(\n",
    "    name=\"blue\",\n",
    "    endpoint_name=endpoint_name,\n",
    "    model=model,\n",
    "    environment=env,\n",
    "    code_configuration=CodeConfiguration(\n",
    "        code=\"/home/azureuser/cloudfiles/code/Users/<User-name>/Real-time-spam-detection-with-Azure/onlinescoring\", \n",
    "        scoring_script=\"score.py\"\n",
    "    ),\n",
    "    instance_type=\"Standard_DS3_v2\",\n",
    "    instance_count=1,\n",
    ")"
   ]
  },
  {
   "cell_type": "code",
   "execution_count": null,
   "metadata": {
    "jupyter": {
     "outputs_hidden": false,
     "source_hidden": false
    },
    "nteract": {
     "transient": {
      "deleting": false
     }
    }
   },
   "outputs": [],
   "source": []
  }
 ],
 "metadata": {
  "kernel_info": {
   "name": "python310-sdkv2"
  },
  "kernelspec": {
   "display_name": "Python 3.10 - SDK v2",
   "language": "python",
   "name": "python310-sdkv2"
  },
  "language_info": {
   "codemirror_mode": {
    "name": "ipython",
    "version": 3
   },
   "file_extension": ".py",
   "mimetype": "text/x-python",
   "name": "python",
   "nbconvert_exporter": "python",
   "pygments_lexer": "ipython3",
   "version": "3.10.14"
  },
  "microsoft": {
   "host": {
    "AzureML": {
     "notebookHasBeenCompleted": true
    }
   },
   "ms_spell_check": {
    "ms_spell_check_language": "en"
   }
  },
  "nteract": {
   "version": "nteract-front-end@1.0.0"
  }
 },
 "nbformat": 4,
 "nbformat_minor": 2
}
